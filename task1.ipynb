import string
fp = open('words.txt')

def manipulate(fp):
  for line in fp:
    line=fp.readline()
    line = line.replace('-', ' ')
    #line=line.split()
    word=line.strip()
    word = word.strip(string.punctuation + string.whitespace)
    word = word.lower()
    print(word) 
manipulate(fp)    

