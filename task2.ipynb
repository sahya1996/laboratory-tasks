import string
def myfile(filename):
    hist = dict()
    fp = open(filename)
    for line in fp:
        myline(line, hist)
    return hist

def myline(line, hist):
    line = line.replace('-', ' ')
    
    for word in line.split():
        word = word.strip(string.punctuation + string.whitespace)
        word = word.lower()
        hist[word] = hist.get(word, 0) + 1
        print(sum(hist.values()))

hist = myfile('newbook.txt')
