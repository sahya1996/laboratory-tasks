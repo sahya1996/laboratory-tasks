import string
def myfile(filename):
    hist = []
    fp = open(filename)
    for line in fp:
        word=line.strip()
        hist+=[word]
    return hist
hist=myfile("newbook.txt") 

def words_notin_file(filename,line, hist):
    new_text = []
    fin = open(filename)
    lines = fin.readlines()
    lines = lines[line - 1:]
   
      for word in lines:
        word = word.strip(string.punctuation + string.whitespace)
        word = word.lower().split()
    
        new_text += word

    newdict = {}
    for word in new_text:
        newdict[word] = newdict.get(word, 0) + 1

    words_notin_file = list(set(newdict.keys()) - set(filename))

    return words_notin_file

