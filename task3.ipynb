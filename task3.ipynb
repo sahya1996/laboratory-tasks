import matplotlib.pyplot as pyplot
fname=open("newbook.txt")
line=fname.read()
word=line.split()
hist=dic()
def frequency(hist):
    frequency = hist.values()
    frequency.sort(reverse=True)
    rf = [(r+1, f) for r, f in enumerate(frequency)]
    return rf


def ranks(hist):
    for r, f in frequency(hist):
        print(r, f)
def plot_ranks(hist, scale='log'):
    t = frequenct(hist)
    rs, fs = zip(*t)

    pyplot.clf()
    pyplot.xscale(scale)
    pyplot.yscale(scale)
    pyplot.title('Zipf plot')
    pyplot.xlabel('rank')
    pyplot.ylabel('freq')
    pyplot.plot(rs, fs, 'r-')
    pyplot.show()
def main(name, fname='newbook.txt', flag='plot', *args):
    
    if flag == 'print':
        ranks(hist)
    elif flag == 'plot':
        plot_ranks(hist)
    else:
        print ('Usage: zipf.py filename [print|plot]')
